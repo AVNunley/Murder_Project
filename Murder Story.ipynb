{
 "cells": [
  {
   "cell_type": "code",
   "execution_count": 1,
   "metadata": {},
   "outputs": [
    {
     "name": "stdout",
     "output_type": "stream",
     "text": [
      "<class 'pandas.core.frame.DataFrame'>\n",
      "RangeIndex: 771025 entries, 0 to 771024\n",
      "Data columns (total 31 columns):\n",
      " #   Column        Non-Null Count   Dtype  \n",
      "---  ------        --------------   -----  \n",
      " 0   ID            771025 non-null  object \n",
      " 1   CNTYFIPS      771025 non-null  object \n",
      " 2   Ori           771025 non-null  object \n",
      " 3   State         771025 non-null  object \n",
      " 4   Agency        771025 non-null  object \n",
      " 5   Agentype      771025 non-null  object \n",
      " 6   Source        771025 non-null  object \n",
      " 7   Solved        771025 non-null  object \n",
      " 8   Year          771025 non-null  int64  \n",
      " 9   Month         771025 non-null  object \n",
      " 10  Incident      771025 non-null  int64  \n",
      " 11  ActionType    771025 non-null  object \n",
      " 12  Homicide      771025 non-null  object \n",
      " 13  Situation     771025 non-null  object \n",
      " 14  VicAge        771025 non-null  int64  \n",
      " 15  VicSex        771025 non-null  object \n",
      " 16  VicRace       771025 non-null  object \n",
      " 17  VicEthnic     771025 non-null  object \n",
      " 18  OffAge        771025 non-null  int64  \n",
      " 19  OffSex        771025 non-null  object \n",
      " 20  OffRace       771025 non-null  object \n",
      " 21  OffEthnic     771025 non-null  object \n",
      " 22  Weapon        771025 non-null  object \n",
      " 23  Relationship  771025 non-null  object \n",
      " 24  Circumstance  771025 non-null  object \n",
      " 25  Subcircum     29256 non-null   object \n",
      " 26  VicCount      771025 non-null  int64  \n",
      " 27  OffCount      771025 non-null  int64  \n",
      " 28  FileDate      769793 non-null  float64\n",
      " 29  fstate        771025 non-null  object \n",
      " 30  MSA           771025 non-null  object \n",
      "dtypes: float64(1), int64(6), object(24)\n",
      "memory usage: 182.4+ MB\n",
      "None\n"
     ]
    }
   ],
   "source": [
    "#I first loaded the dataset into a pandas dataframe and viewed its info\n",
    "import pandas as pd\n",
    "murder_df = pd.read_csv('SHR76_17.csv')\n",
    "print(murder_df.info())"
   ]
  },
  {
   "cell_type": "code",
   "execution_count": 2,
   "metadata": {},
   "outputs": [
    {
     "name": "stdout",
     "output_type": "stream",
     "text": [
      "[1976 1977 1978 1979 1980 1981 1982 1983 1984 1985 1986 1987 1988 1989\n",
      " 1990 1991 1992 1993 1994 1995 1996 1997 1998 1999 2000 2001 2002 2003\n",
      " 2004 2005 2006 2007 2008 2009 2010 2011 2012 2013 2014 2015 2016 2017]\n",
      "['January' 'February' 'March' 'April' 'May' 'June' 'July' 'August'\n",
      " 'September' 'October' 'November' 'December']\n"
     ]
    }
   ],
   "source": [
    "#I saw that a column with datetimes could be generated using the Year and Month columns\n",
    "#So I checked the unique values in each to make sure there was nothing unexpected\n",
    "print(murder_df['Year'].unique())\n",
    "print(murder_df['Month'].unique())"
   ]
  },
  {
   "cell_type": "code",
   "execution_count": 3,
   "metadata": {},
   "outputs": [],
   "source": [
    "#Then I loaded the dataset again, this time sending a list of the relevant columns to the parse_dates parameter\n",
    "murder_df = pd.read_csv('SHR76_17.csv',parse_dates=[['Year','Month']])"
   ]
  },
  {
   "cell_type": "code",
   "execution_count": 4,
   "metadata": {},
   "outputs": [
    {
     "name": "stdout",
     "output_type": "stream",
     "text": [
      "  Year_Month                ID       CNTYFIPS      Ori    State  \\\n",
      "0 1976-01-01  197601001AKASP00     Juneau, AK  AKASP00   Alaska   \n",
      "1 1976-01-01  197601001AL00102  Jefferson, AL  AL00102  Alabama   \n",
      "2 1976-01-01  197601001AL00104  Jefferson, AL  AL00104  Alabama   \n",
      "3 1976-01-01  197601001AL00106  Jefferson, AL  AL00106  Alabama   \n",
      "4 1976-01-01  197601001AL00201     Mobile, AL  AL00201  Alabama   \n",
      "\n",
      "           Agency          Agentype Source Solved  Incident  ...  \\\n",
      "0  State Troopers  Primary state LE    FBI    Yes         1  ...   \n",
      "1      Birmingham  Municipal police    FBI    Yes         1  ...   \n",
      "2       Fairfield  Municipal police    FBI    Yes         1  ...   \n",
      "3           Leeds  Municipal police    FBI    Yes         1  ...   \n",
      "4          Mobile  Municipal police    FBI    Yes         1  ...   \n",
      "\n",
      "                 OffEthnic                       Weapon  Relationship  \\\n",
      "0  Unknown or not reported  Knife or cutting instrument       Husband   \n",
      "1  Unknown or not reported                      Shotgun  Acquaintance   \n",
      "2  Unknown or not reported                      Shotgun          Wife   \n",
      "3  Unknown or not reported  Knife or cutting instrument       Brother   \n",
      "4  Unknown or not reported      Strangulation - hanging  Acquaintance   \n",
      "\n",
      "                      Circumstance                              Subcircum  \\\n",
      "0                  Other arguments                                    NaN   \n",
      "1  Felon killed by private citizen  Felon killed in commission of a crime   \n",
      "2                            Other                                    NaN   \n",
      "3                  Other arguments                                    NaN   \n",
      "4       Circumstances undetermined                                    NaN   \n",
      "\n",
      "  VicCount OffCount  FileDate   fstate                    MSA  \n",
      "0        0        0   30180.0   Alaska           Rural Alaska  \n",
      "1        0        0   30180.0  Alabama  Birmingham-Hoover, AL  \n",
      "2        0        0   30180.0  Alabama  Birmingham-Hoover, AL  \n",
      "3        0        0   30180.0  Alabama  Birmingham-Hoover, AL  \n",
      "4        0        0   30180.0  Alabama             Mobile, AL  \n",
      "\n",
      "[5 rows x 30 columns]\n",
      "<class 'pandas.core.frame.DataFrame'>\n",
      "RangeIndex: 771025 entries, 0 to 771024\n",
      "Data columns (total 30 columns):\n",
      " #   Column        Non-Null Count   Dtype         \n",
      "---  ------        --------------   -----         \n",
      " 0   Year_Month    771025 non-null  datetime64[ns]\n",
      " 1   ID            771025 non-null  object        \n",
      " 2   CNTYFIPS      771025 non-null  object        \n",
      " 3   Ori           771025 non-null  object        \n",
      " 4   State         771025 non-null  object        \n",
      " 5   Agency        771025 non-null  object        \n",
      " 6   Agentype      771025 non-null  object        \n",
      " 7   Source        771025 non-null  object        \n",
      " 8   Solved        771025 non-null  object        \n",
      " 9   Incident      771025 non-null  int64         \n",
      " 10  ActionType    771025 non-null  object        \n",
      " 11  Homicide      771025 non-null  object        \n",
      " 12  Situation     771025 non-null  object        \n",
      " 13  VicAge        771025 non-null  int64         \n",
      " 14  VicSex        771025 non-null  object        \n",
      " 15  VicRace       771025 non-null  object        \n",
      " 16  VicEthnic     771025 non-null  object        \n",
      " 17  OffAge        771025 non-null  int64         \n",
      " 18  OffSex        771025 non-null  object        \n",
      " 19  OffRace       771025 non-null  object        \n",
      " 20  OffEthnic     771025 non-null  object        \n",
      " 21  Weapon        771025 non-null  object        \n",
      " 22  Relationship  771025 non-null  object        \n",
      " 23  Circumstance  771025 non-null  object        \n",
      " 24  Subcircum     29256 non-null   object        \n",
      " 25  VicCount      771025 non-null  int64         \n",
      " 26  OffCount      771025 non-null  int64         \n",
      " 27  FileDate      769793 non-null  float64       \n",
      " 28  fstate        771025 non-null  object        \n",
      " 29  MSA           771025 non-null  object        \n",
      "dtypes: datetime64[ns](1), float64(1), int64(5), object(23)\n",
      "memory usage: 176.5+ MB\n",
      "None\n"
     ]
    }
   ],
   "source": [
    "#I printed the head and info to make sure the dates were parsed properly and the new column was of the datetime type\n",
    "print(murder_df.head())\n",
    "print(murder_df.info())"
   ]
  },
  {
   "cell_type": "code",
   "execution_count": 5,
   "metadata": {},
   "outputs": [
    {
     "name": "stdout",
     "output_type": "stream",
     "text": [
      "Year_Month         504\n",
      "ID              736646\n",
      "CNTYFIPS          3061\n",
      "Ori              12744\n",
      "State               51\n",
      "Agency            9455\n",
      "Agentype             7\n",
      "Source               2\n",
      "Solved               2\n",
      "Incident          1000\n",
      "ActionType           2\n",
      "Homicide             2\n",
      "Situation            6\n",
      "VicAge             101\n",
      "VicSex               3\n",
      "VicRace              6\n",
      "VicEthnic            3\n",
      "OffAge             101\n",
      "OffSex               3\n",
      "OffRace              6\n",
      "OffEthnic            3\n",
      "Weapon              18\n",
      "Relationship        29\n",
      "Circumstance        32\n",
      "Subcircum            7\n",
      "VicCount            11\n",
      "OffCount            11\n",
      "FileDate          5448\n",
      "fstate              51\n",
      "MSA                409\n",
      "dtype: int64\n"
     ]
    }
   ],
   "source": [
    "#Then I checked the number of unique values in each column to see if anything strange would appear\n",
    "print(murder_df.nunique())"
   ]
  },
  {
   "cell_type": "code",
   "execution_count": 6,
   "metadata": {},
   "outputs": [
    {
     "name": "stdout",
     "output_type": "stream",
     "text": [
      "['Alaska' 'Alabama' 'Arkansas' 'Arizona' 'California' 'Colorado'\n",
      " 'Connecticut' 'District of Columbia' 'Delaware' 'Florida' 'Georgia'\n",
      " 'Hawaii' 'Iowa' 'Idaho' 'Illinois' 'Indiana' 'Kansas' 'Kentucky'\n",
      " 'Louisiana' 'Massachusetts' 'Maryland' 'Maine' 'Michigan' 'Minnesota'\n",
      " 'Missouri' 'Mississippi' 'Nebraska' 'North Carolina' 'North Dakota'\n",
      " 'New Hampshire' 'New Jersey' 'New Mexico' 'Nevada' 'New York' 'Ohio'\n",
      " 'Oklahoma' 'Oregon' 'Pennsylvania' 'Rhodes Island' 'South Carolina'\n",
      " 'Tennessee' 'Texas' 'Virginia' 'Washington' 'Wisconsin' 'West Virginia'\n",
      " 'Wyoming' 'Montana' 'South Dakota' 'Utah' 'Vermont']\n",
      "['Alaska' 'Alabama' 'Arkansas' 'Arizona' 'California' 'Colorado'\n",
      " 'Connecticut' 'District of Columbia' 'Delaware' 'Florida' 'Georgia'\n",
      " 'Hawaii' 'Iowa' 'Idaho' 'Illinois' 'Indiana' 'Kansas' 'Kentucky'\n",
      " 'Louisiana' 'Massachusetts' 'Maryland' 'Maine' 'Michigan' 'Minnesota'\n",
      " 'Missouri' 'Mississippi' 'Nebraska' 'North Carolina' 'North Dakota'\n",
      " 'New Hampshire' 'New Jersey' 'New Mexico' 'Nevada' 'New York' 'Ohio'\n",
      " 'Oklahoma' 'Oregon' 'Pennsylvania' 'Rhode Island' 'South Carolina'\n",
      " 'Tennessee' 'Texas' 'Virginia' 'Washington' 'Wisconsin' 'West Virginia'\n",
      " 'Wyoming' 'Montana' 'South Dakota' 'Utah' 'Vermont']\n"
     ]
    }
   ],
   "source": [
    "#I noticed that there are 51 states, so I checked to see if the 51st was DC; it was\n",
    "print(murder_df['State'].unique())\n",
    "print(murder_df['fstate'].unique())"
   ]
  },
  {
   "cell_type": "code",
   "execution_count": 7,
   "metadata": {},
   "outputs": [
    {
     "name": "stdout",
     "output_type": "stream",
     "text": [
      "['Primary state LE' 'Municipal police' 'Sheriff' 'Special police'\n",
      " 'County police' 'Regional police' 'Tribal']\n",
      "['FBI' 'MAP']\n",
      "['Yes' 'No']\n",
      "['Normal update' 'Adjustment']\n",
      "['Murder and non-negligent manslaughter' 'Manslaughter by negligence']\n",
      "['Single victim/single offender' 'Single victim/multiple offenders'\n",
      " 'Single victim/unknown offender(s)'\n",
      " 'Multiple victims/unknown offender(s)' 'Multiple victims/single offender'\n",
      " 'Multiple victims/multiple offenders']\n",
      "[ 48  65  45  43  35  25  27  42  41  50  51  49  36  19  52  17 999  14\n",
      "  44  24  22  46  16  67   1  18  20   0  38  26  58  28   2  31  32  23\n",
      "  34  56  68  60  30  21  29  33  82   9  66  39  47  55  69  62  59  40\n",
      "  53  12  54  61  37  77  84  63  57   4  78  71  70  15  64  73  13  79\n",
      "   5  76  10  11   3  75  80  72  74   6  90  99  85  86  83  87  88  81\n",
      "   7   8  92  93  94  91  95  89  97  96  98]\n",
      "['Male' 'Female' 'Unknown']\n",
      "['American Indian or Alaskan Native' 'Black' 'White' 'Unknown' 'Asian'\n",
      " 'Native Hawaiian or Pacific Islander']\n",
      "['Unknown or not reported' 'Not of Hispanic origin' 'Hispanic origin']\n",
      "[ 55  67  53  35  25  26  29  19  30  42  43  27  45  56  18  33  57  14\n",
      "  16  78  23 999  70  17  37  15  39  10  40  41  20  51  24  32  44  36\n",
      "  58  28  52  31  21  61  22  34  38  64  48  84  65  76  46  71  49  62\n",
      "  79  68  66  50  81  47  63  59  13  74  11  77  73  88  12  54  60  75\n",
      "  83   3  86  69  99  72  85   9  94   8  80  98   7  82   5  87   6   2\n",
      "   4  90  89  92  91  93  95  96  97   1   0]\n",
      "['Female' 'Male' 'Unknown']\n",
      "['American Indian or Alaskan Native' 'Black' 'White' 'Unknown' 'Asian'\n",
      " 'Native Hawaiian or Pacific Islander']\n",
      "['Unknown or not reported' 'Not of Hispanic origin' 'Hispanic origin']\n",
      "['Knife or cutting instrument' 'Shotgun' 'Strangulation - hanging' 'Rifle'\n",
      " 'Handgun - pistol, revolver, etc' 'Personal weapons, includes beating'\n",
      " 'Fire' 'Other or type unknown' 'Firearm, type not stated'\n",
      " 'Asphyxiation - includes death by gas'\n",
      " 'Narcotics or drugs, sleeping pills' 'Blunt object - hammer, club, etc'\n",
      " 'Drowning' 'Pushed or thrown out window' 'Other gun'\n",
      " 'Poison - does not include gas' 'Explosives' 'Motor Vehicle/Vessel']\n",
      "['Husband' 'Acquaintance' 'Wife' 'Brother' 'Friend'\n",
      " 'Relationship not determined' 'Stranger' 'In-law' 'Stepfather'\n",
      " 'Boyfriend' 'Father' 'Neighbor' 'Common-law husband' 'Other family'\n",
      " 'Ex-husband' 'Stepson' 'Homosexual relationship' 'Daughter'\n",
      " 'Common-law wife' 'Other - known to victim' 'Son' 'Girlfriend' 'Sister'\n",
      " 'Ex-wife' 'Mother' 'Employee' 'Stepdaughter' 'Employer' 'Stepmother']\n",
      "['Other arguments' 'Felon killed by private citizen' 'Other'\n",
      " 'Circumstances undetermined' 'Argument over money or property'\n",
      " 'Other negligent handling of gun' 'Brawl due to influence of alcohol'\n",
      " 'Lovers triangle' 'Burglary' 'All suspected felony type'\n",
      " 'Other - not specified' 'Felon killed by police' 'Arson' 'Robbery' 'Rape'\n",
      " 'Juvenile gang killings' 'Narcotic drug laws' 'Other sex offense'\n",
      " 'Larceny' 'Gambling' 'All other manslaughter by negligence'\n",
      " 'Children playing with gun' 'Child killed by babysitter'\n",
      " 'Brawl due to influence of narcotics' 'Sniper attack' 'Gangland killings'\n",
      " 'Institutional killings' 'Prostitution and commercialized vice'\n",
      " 'Motor vehicle theft' 'Victim shot in hunting accident' 'Abortion'\n",
      " 'Gun-cleaning death - other than self']\n",
      "[nan 'Felon killed in commission of a crime' 'Felon attacked a civilian'\n",
      " 'Felon resisted arrest' 'Felon attempted flight from a crime'\n",
      " 'Felon attacked fellow police officer'\n",
      " 'Not enough information to determine' 'Felon attacked police officer']\n",
      "[ 0  1  3  2  9  5  4  8  6  7 10]\n",
      "[ 0  2  3  1  4  8  6  5  9 10  7]\n"
     ]
    }
   ],
   "source": [
    "#Then I checked the unique values in all columns with small numbers of unique values\n",
    "print(murder_df['Agentype'].unique())\n",
    "print(murder_df['Source'].unique())\n",
    "print(murder_df['Solved'].unique())\n",
    "print(murder_df['ActionType'].unique())\n",
    "print(murder_df['Homicide'].unique())\n",
    "print(murder_df['Situation'].unique())\n",
    "print(murder_df['VicAge'].unique())\n",
    "print(murder_df['VicSex'].unique())\n",
    "print(murder_df['VicRace'].unique())\n",
    "print(murder_df['VicEthnic'].unique())\n",
    "print(murder_df['OffAge'].unique())\n",
    "print(murder_df['OffSex'].unique())\n",
    "print(murder_df['OffRace'].unique())\n",
    "print(murder_df['OffEthnic'].unique())\n",
    "print(murder_df['Weapon'].unique())\n",
    "print(murder_df['Relationship'].unique())\n",
    "print(murder_df['Circumstance'].unique())\n",
    "print(murder_df['Subcircum'].unique())\n",
    "print(murder_df['VicCount'].unique())\n",
    "print(murder_df['OffCount'].unique())"
   ]
  },
  {
   "cell_type": "code",
   "execution_count": 8,
   "metadata": {},
   "outputs": [],
   "source": [
    "#All unique values looked reasonable except for the use of 999 in the place of unknown victim and offender ages\n",
    "#So I generated a dictionary of values (999) to associate with missing data for those two columns\n",
    "na_dict = {'OffAge' : 999 ,\n",
    "           'VicAge' : 999}\n",
    "\n",
    "#Then I reloaded the dataset into a dataframe, this time sending the dictionary as an argument to the na_values parameter\n",
    "#I used this dictionary in case 999 appears as a correct value in another column\n",
    "murder_df = pd.read_csv('SHR76_17.csv', parse_dates=[['Year','Month']], na_values = na_dict)"
   ]
  },
  {
   "cell_type": "code",
   "execution_count": 9,
   "metadata": {},
   "outputs": [
    {
     "name": "stderr",
     "output_type": "stream",
     "text": [
      "C:\\Users\\Classy\\anaconda3\\lib\\site-packages\\numpy\\lib\\histograms.py:839: RuntimeWarning: invalid value encountered in greater_equal\n",
      "  keep = (tmp_a >= first_edge)\n",
      "C:\\Users\\Classy\\anaconda3\\lib\\site-packages\\numpy\\lib\\histograms.py:840: RuntimeWarning: invalid value encountered in less_equal\n",
      "  keep &= (tmp_a <= last_edge)\n"
     ]
    },
    {
     "data": {
      "image/png": "[encoded data removed]",
      "text/plain": [
       "<Figure size 432x288 with 1 Axes>"
      ]
     },
     "metadata": {
      "needs_background": "light"
     },
     "output_type": "display_data"
    }
   ],
   "source": [
    "#From what I can tell, the pandas dataframe is now clean and ready to analyze\n",
    "\n",
    "import matplotlib.pyplot as plt\n",
    "plt.hist(murder_df['VicAge'], bins=100)\n",
    "plt.title('Victim Age')\n",
    "plt.xlabel('Age')\n",
    "plt.show()"
   ]
  },
  {
   "cell_type": "code",
   "execution_count": null,
   "metadata": {},
   "outputs": [],
   "source": []
  },
  {
   "cell_type": "code",
   "execution_count": null,
   "metadata": {},
   "outputs": [],
   "source": []
  },
  {
   "cell_type": "code",
   "execution_count": null,
   "metadata": {},
   "outputs": [],
   "source": []
  },
  {
   "cell_type": "code",
   "execution_count": null,
   "metadata": {},
   "outputs": [],
   "source": []
  },
  {
   "cell_type": "code",
   "execution_count": null,
   "metadata": {},
   "outputs": [],
   "source": []
  },
  {
   "cell_type": "code",
   "execution_count": null,
   "metadata": {},
   "outputs": [],
   "source": []
  },
  {
   "cell_type": "code",
   "execution_count": null,
   "metadata": {},
   "outputs": [],
   "source": []
  },
  {
   "cell_type": "code",
   "execution_count": null,
   "metadata": {},
   "outputs": [],
   "source": []
  },
  {
   "cell_type": "code",
   "execution_count": null,
   "metadata": {},
   "outputs": [],
   "source": []
  },
  {
   "cell_type": "code",
   "execution_count": null,
   "metadata": {},
   "outputs": [],
   "source": []
  },
  {
   "cell_type": "code",
   "execution_count": null,
   "metadata": {},
   "outputs": [],
   "source": []
  }
 ],
 "metadata": {
  "kernelspec": {
   "display_name": "Python 3",
   "language": "python",
   "name": "python3"
  },
  "language_info": {
   "codemirror_mode": {
    "name": "ipython",
    "version": 3
   },
   "file_extension": ".py",
   "mimetype": "text/x-python",
   "name": "python",
   "nbconvert_exporter": "python",
   "pygments_lexer": "ipython3",
   "version": "3.7.6"
  }
 },
 "nbformat": 4,
 "nbformat_minor": 4
}
