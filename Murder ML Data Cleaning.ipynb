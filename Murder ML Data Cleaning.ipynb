{
 "cells": [
  {
   "cell_type": "code",
   "execution_count": 1,
   "metadata": {},
   "outputs": [],
   "source": [
    "import pandas as pd\n",
    "import numpy as np\n",
    "import scipy.stats as stats\n",
    "\n",
    "import matplotlib.pyplot as plt\n",
    "import seaborn as sns\n",
    "\n",
    "%matplotlib inline\n",
    "sns.set_style('whitegrid')\n",
    "sns.set_context('notebook')"
   ]
  },
  {
   "cell_type": "code",
   "execution_count": 2,
   "metadata": {},
   "outputs": [
    {
     "name": "stdout",
     "output_type": "stream",
     "text": [
      "<class 'pandas.core.frame.DataFrame'>\n",
      "RangeIndex: 804751 entries, 0 to 804750\n",
      "Data columns (total 31 columns):\n",
      " #   Column        Non-Null Count   Dtype  \n",
      "---  ------        --------------   -----  \n",
      " 0   ID            804751 non-null  object \n",
      " 1   CNTYFIPS      804751 non-null  object \n",
      " 2   Ori           804751 non-null  object \n",
      " 3   State         804751 non-null  object \n",
      " 4   Agency        804751 non-null  object \n",
      " 5   Agentype      804751 non-null  object \n",
      " 6   Source        804751 non-null  object \n",
      " 7   Solved        804751 non-null  object \n",
      " 8   Year          804751 non-null  int64  \n",
      " 9   StateName     0 non-null       float64\n",
      " 10  Month         804751 non-null  object \n",
      " 11  Incident      804751 non-null  int64  \n",
      " 12  ActionType    804751 non-null  object \n",
      " 13  Homicide      804751 non-null  object \n",
      " 14  Situation     804751 non-null  object \n",
      " 15  VicAge        804751 non-null  int64  \n",
      " 16  VicSex        804751 non-null  object \n",
      " 17  VicRace       804751 non-null  object \n",
      " 18  VicEthnic     804751 non-null  object \n",
      " 19  OffAge        804751 non-null  int64  \n",
      " 20  OffSex        804751 non-null  object \n",
      " 21  OffRace       804751 non-null  object \n",
      " 22  OffEthnic     804751 non-null  object \n",
      " 23  Weapon        804751 non-null  object \n",
      " 24  Relationship  804751 non-null  object \n",
      " 25  Circumstance  804751 non-null  object \n",
      " 26  Subcircum     31502 non-null   object \n",
      " 27  VicCount      804751 non-null  int64  \n",
      " 28  OffCount      804751 non-null  int64  \n",
      " 29  FileDate      802241 non-null  float64\n",
      " 30  MSA           804751 non-null  object \n",
      "dtypes: float64(2), int64(6), object(23)\n",
      "memory usage: 190.3+ MB\n",
      "None\n"
     ]
    }
   ],
   "source": [
    "murders_full = pd.read_csv('C:\\\\Users\\\\Classy\\\\Desktop\\\\Springboard\\\\Murder Project\\\\Data\\\\SHR76_19.csv')\n",
    "\n",
    "print(murders_full.info())"
   ]
  },
  {
   "cell_type": "code",
   "execution_count": 3,
   "metadata": {},
   "outputs": [],
   "source": [
    "murders_short = murders_full.drop(['ID',\n",
    "              'Source',\n",
    "              'StateName',\n",
    "              'Incident',\n",
    "              'ActionType',\n",
    "              'OffAge',\n",
    "              'OffSex',\n",
    "              'OffRace',\n",
    "              'OffEthnic',\n",
    "              'Relationship',\n",
    "              'OffCount',\n",
    "              'FileDate',\n",
    "              'Circumstance',\n",
    "              'Subcircum',\n",
    "              'Year',\n",
    "              'Agency',\n",
    "              'State',\n",
    "              'CNTYFIPS',\n",
    "              ],\n",
    "             axis=1)"
   ]
  },
  {
   "cell_type": "code",
   "execution_count": 4,
   "metadata": {},
   "outputs": [
    {
     "data": {
      "text/plain": [
       "Ori          12936\n",
       "Agentype         7\n",
       "Solved           2\n",
       "Month           12\n",
       "Homicide         2\n",
       "Situation        6\n",
       "VicAge         101\n",
       "VicSex           3\n",
       "VicRace          6\n",
       "VicEthnic        3\n",
       "Weapon          17\n",
       "VicCount        13\n",
       "MSA            409\n",
       "dtype: int64"
      ]
     },
     "execution_count": 4,
     "metadata": {},
     "output_type": "execute_result"
    }
   ],
   "source": [
    "murders_short.nunique()"
   ]
  },
  {
   "cell_type": "code",
   "execution_count": 5,
   "metadata": {},
   "outputs": [
    {
     "data": {
      "text/plain": [
       "Single victim/single offender           441743\n",
       "Single victim/unknown offender(s)       213712\n",
       "Single victim/multiple offenders         82068\n",
       "Multiple victims/single offender         37796\n",
       "Multiple victims/unknown offender(s)     18057\n",
       "Multiple victims/multiple offenders      11375\n",
       "Name: Situation, dtype: int64"
      ]
     },
     "execution_count": 5,
     "metadata": {},
     "output_type": "execute_result"
    }
   ],
   "source": [
    "murders_short.Situation.value_counts()"
   ]
  },
  {
   "cell_type": "code",
   "execution_count": 6,
   "metadata": {},
   "outputs": [],
   "source": [
    "#Adjusting 'Situation' to remove dependent variable leakage (but maybe still capture a meaningful feature):\n",
    "murders_short['Situation'].replace(to_replace = ['Single victim/single offender',\n",
    "                                           'Single victim/unknown offender(s)',\n",
    "                                           'Single victim/multiple offenders'],\n",
    "                             value = 'Single Victim',\n",
    "                             inplace = True)\n",
    "\n",
    "murders_short['Situation'].replace(to_replace = ['Multiple victims/single offender',\n",
    "                                           'Multiple victims/unknown offender(s)',\n",
    "                                           'Multiple victims/multiple offenders'],\n",
    "                             value = 'Multiple Victims',\n",
    "                             inplace = True)"
   ]
  },
  {
   "cell_type": "code",
   "execution_count": 7,
   "metadata": {},
   "outputs": [
    {
     "data": {
      "text/plain": [
       "Single Victim       737523\n",
       "Multiple Victims     67228\n",
       "Name: Situation, dtype: int64"
      ]
     },
     "execution_count": 7,
     "metadata": {},
     "output_type": "execute_result"
    }
   ],
   "source": [
    "murders_short.Situation.value_counts()"
   ]
  },
  {
   "cell_type": "code",
   "execution_count": 8,
   "metadata": {},
   "outputs": [],
   "source": [
    "#Create Ori clearance rate column\n",
    "\n",
    "clearance_rates = murders_short.groupby(['Ori','Solved'])['Month'].count()\n",
    "clearance_rates = clearance_rates.unstack()\n",
    "clearance_rates.fillna(0, inplace = True)\n",
    "clearance_rates['Clearance'] = clearance_rates.Yes/(clearance_rates.Yes + clearance_rates.No)\n",
    "clearance_dict = dict(zip(clearance_rates.index, clearance_rates.Clearance))\n",
    "clearance_dict\n",
    "\n",
    "murders_short['OriClearance'] = murders_short.Ori.apply(lambda x: clearance_dict.get(x))"
   ]
  },
  {
   "cell_type": "code",
   "execution_count": 9,
   "metadata": {},
   "outputs": [
    {
     "data": {
      "text/plain": [
       "Text(0, 0.5, 'Observations')"
      ]
     },
     "execution_count": 9,
     "metadata": {},
     "output_type": "execute_result"
    },
    {
     "data": {
      "image/png": "[encoded data removed]",
      "text/plain": [
       "<Figure size 432x288 with 1 Axes>"
      ]
     },
     "metadata": {},
     "output_type": "display_data"
    }
   ],
   "source": [
    "plt.hist(murders_short.OriClearance, bins = 50)\n",
    "plt.xlabel('Investigating Agency Clearance Rate')\n",
    "plt.ylabel('Observations')"
   ]
  },
  {
   "cell_type": "code",
   "execution_count": 10,
   "metadata": {},
   "outputs": [],
   "source": [
    "#Create total cases handled column (to possibly capture experience level of investigators)\n",
    "cases_handled = murders_short.groupby('Ori')['Solved'].count()\n",
    "cases_dict = dict(zip(cases_handled.index, cases_handled))\n",
    "\n",
    "murders_short['OriCases'] = murders_short.Ori.apply(lambda x: cases_dict.get(x))"
   ]
  },
  {
   "cell_type": "code",
   "execution_count": 11,
   "metadata": {},
   "outputs": [
    {
     "data": {
      "text/plain": [
       "Text(0, 0.5, 'Observations')"
      ]
     },
     "execution_count": 11,
     "metadata": {},
     "output_type": "execute_result"
    },
    {
     "data": {
      "image/png": "[encoded data removed]",
      "text/plain": [
       "<Figure size 432x288 with 1 Axes>"
      ]
     },
     "metadata": {},
     "output_type": "display_data"
    }
   ],
   "source": [
    "plt.hist(murders_short.OriCases, bins = 50)\n",
    "plt.xlabel('Investigating Agency Total Murder Cases Handled')\n",
    "plt.ylabel('Observations')"
   ]
  },
  {
   "cell_type": "code",
   "execution_count": 12,
   "metadata": {},
   "outputs": [],
   "source": [
    "#Create White murder ratio column (perhaps to capture a feature for racial bias)\n",
    "\n",
    "murders_by_race = murders_short.groupby(['Ori', 'VicRace'])['Solved'].count()\n",
    "murders_by_race = murders_by_race.unstack()\n",
    "murders_by_race.fillna(0, inplace = True)\n",
    "murders_by_race['White/NonWhite Ratio'] = murders_by_race['White']/murders_by_race.sum(axis = 1)\n",
    "race_dict = dict(zip(murders_by_race.index, murders_by_race['White/NonWhite Ratio']))\n",
    "\n",
    "murders_short['WhiteNonWhiteRatio'] = murders_short.Ori.apply(lambda x: race_dict.get(x))"
   ]
  },
  {
   "cell_type": "code",
   "execution_count": 13,
   "metadata": {},
   "outputs": [
    {
     "data": {
      "text/plain": [
       "Text(0, 0.5, 'Observations')"
      ]
     },
     "execution_count": 13,
     "metadata": {},
     "output_type": "execute_result"
    },
    {
     "data": {
      "image/png": "[encoded data removed]",
      "text/plain": [
       "<Figure size 432x288 with 1 Axes>"
      ]
     },
     "metadata": {},
     "output_type": "display_data"
    }
   ],
   "source": [
    "plt.hist(murders_short.WhiteNonWhiteRatio, bins = 50)\n",
    "plt.xlabel('Investigating Agency Ratio of White to NonWhite Murders')\n",
    "plt.ylabel('Observations')"
   ]
  },
  {
   "cell_type": "markdown",
   "metadata": {},
   "source": [
    "The above columns should be generated a second time for the no_unknowns dataset after removing unknowns"
   ]
  },
  {
   "cell_type": "code",
   "execution_count": 14,
   "metadata": {},
   "outputs": [],
   "source": [
    "#Create age known/unknown column\n",
    "murders_short['AgeKnown'] = murders_short.VicAge.apply(lambda x: 0 if x == 999 else 1)"
   ]
  },
  {
   "cell_type": "code",
   "execution_count": 15,
   "metadata": {},
   "outputs": [
    {
     "name": "stdout",
     "output_type": "stream",
     "text": [
      "47.72550391363291\n"
     ]
    },
    {
     "name": "stderr",
     "output_type": "stream",
     "text": [
      "C:\\Users\\Classy\\anaconda3\\lib\\site-packages\\ipykernel_launcher.py:4: SettingWithCopyWarning: \n",
      "A value is trying to be set on a copy of a slice from a DataFrame\n",
      "\n",
      "See the caveats in the documentation: https://pandas.pydata.org/pandas-docs/stable/user_guide/indexing.html#returning-a-view-versus-a-copy\n",
      "  after removing the cwd from sys.path.\n"
     ]
    }
   ],
   "source": [
    "#Change unknown ages to mean\n",
    "average_age = np.mean(murders_short.VicAge)\n",
    "print(average_age)\n",
    "murders_short.VicAge[murders_short.VicAge == 999] = average_age"
   ]
  },
  {
   "cell_type": "code",
   "execution_count": 16,
   "metadata": {},
   "outputs": [
    {
     "data": {
      "text/plain": [
       "45.000000    10392\n",
       "46.000000     9322\n",
       "47.000000     8858\n",
       "47.725504    12312\n",
       "48.000000     8208\n",
       "49.000000     7990\n",
       "50.000000     8388\n",
       "Name: VicAge, dtype: int64"
      ]
     },
     "execution_count": 16,
     "metadata": {},
     "output_type": "execute_result"
    }
   ],
   "source": [
    "murders_short.VicAge.value_counts().sort_index()[45:50]"
   ]
  },
  {
   "cell_type": "code",
   "execution_count": 17,
   "metadata": {},
   "outputs": [
    {
     "data": {
      "text/plain": [
       "Handgun - pistol, revolver, etc         394363\n",
       "Knife or cutting instrument             117868\n",
       "Firearm, type not stated                 68428\n",
       "Personal weapons, includes beating       46269\n",
       "Other or type unknown                    41648\n",
       "Shotgun                                  39071\n",
       "Blunt object - hammer, club, etc         35638\n",
       "Rifle                                    30109\n",
       "Strangulation - hanging                  10038\n",
       "Fire                                      7769\n",
       "Asphyxiation - includes death by gas      4954\n",
       "Other gun                                 3102\n",
       "Narcotics or drugs, sleeping pills        2538\n",
       "Drowning                                  1503\n",
       "Explosives                                 625\n",
       "Poison - does not include gas              569\n",
       "Pushed or thrown out window                259\n",
       "Name: Weapon, dtype: int64"
      ]
     },
     "execution_count": 17,
     "metadata": {},
     "output_type": "execute_result"
    }
   ],
   "source": [
    "#Merge firearm categories in 'Weapon' to condense features\n",
    "murders_short.Weapon.value_counts()"
   ]
  },
  {
   "cell_type": "code",
   "execution_count": 18,
   "metadata": {},
   "outputs": [
    {
     "data": {
      "text/plain": [
       "Gun                                     535073\n",
       "Knife or cutting instrument             117868\n",
       "Personal weapons, includes beating       46269\n",
       "Other or type unknown                    41648\n",
       "Blunt object - hammer, club, etc         35638\n",
       "Strangulation - hanging                  10038\n",
       "Fire                                      7769\n",
       "Asphyxiation - includes death by gas      4954\n",
       "Narcotics or drugs, sleeping pills        2538\n",
       "Drowning                                  1503\n",
       "Explosives                                 625\n",
       "Poison - does not include gas              569\n",
       "Pushed or thrown out window                259\n",
       "Name: Weapon, dtype: int64"
      ]
     },
     "execution_count": 18,
     "metadata": {},
     "output_type": "execute_result"
    }
   ],
   "source": [
    "murders_short.Weapon.replace(to_replace = ['Handgun - pistol, revolver, etc',\n",
    "                                           'Firearm, type not stated',\n",
    "                                           'Shotgun',\n",
    "                                           'Rifle',\n",
    "                                           'Other gun'],\n",
    "                             value = 'Gun',\n",
    "                             inplace = True)\n",
    "murders_short.Weapon.value_counts()"
   ]
  },
  {
   "cell_type": "code",
   "execution_count": 19,
   "metadata": {},
   "outputs": [
    {
     "data": {
      "text/plain": [
       "0     737789\n",
       "1      49032\n",
       "2      10587\n",
       "3       3772\n",
       "4       1431\n",
       "5        620\n",
       "6        379\n",
       "7        224\n",
       "8        200\n",
       "9        420\n",
       "10       264\n",
       "11        22\n",
       "21        11\n",
       "Name: VicCount, dtype: int64"
      ]
     },
     "execution_count": 19,
     "metadata": {},
     "output_type": "execute_result"
    }
   ],
   "source": [
    "#Drop weird Victim Counts - documentation states maximum value in 'VicCount' should be 10\n",
    "murders_short.VicCount.value_counts().sort_index()"
   ]
  },
  {
   "cell_type": "code",
   "execution_count": 20,
   "metadata": {},
   "outputs": [
    {
     "data": {
      "text/plain": [
       "0     737789\n",
       "1      49032\n",
       "2      10587\n",
       "3       3772\n",
       "4       1431\n",
       "5        620\n",
       "6        379\n",
       "7        224\n",
       "8        200\n",
       "9        420\n",
       "10       264\n",
       "Name: VicCount, dtype: int64"
      ]
     },
     "execution_count": 20,
     "metadata": {},
     "output_type": "execute_result"
    }
   ],
   "source": [
    "murders_short = murders_short[murders_short.VicCount != 11]\n",
    "murders_short = murders_short[murders_short.VicCount != 21]\n",
    "murders_short.VicCount.value_counts().sort_index()"
   ]
  },
  {
   "cell_type": "code",
   "execution_count": 21,
   "metadata": {},
   "outputs": [
    {
     "data": {
      "text/plain": [
       "Ori                   12936\n",
       "Agentype                  7\n",
       "Solved                    2\n",
       "Month                    12\n",
       "Homicide                  2\n",
       "Situation                 2\n",
       "VicAge                  101\n",
       "VicSex                    3\n",
       "VicRace                   6\n",
       "VicEthnic                 3\n",
       "Weapon                   13\n",
       "VicCount                 11\n",
       "MSA                     409\n",
       "OriClearance           1328\n",
       "OriCases                542\n",
       "WhiteNonWhiteRatio     1679\n",
       "AgeKnown                  2\n",
       "dtype: int64"
      ]
     },
     "execution_count": 21,
     "metadata": {},
     "output_type": "execute_result"
    }
   ],
   "source": [
    "murders_short.nunique()"
   ]
  },
  {
   "cell_type": "code",
   "execution_count": 22,
   "metadata": {},
   "outputs": [],
   "source": [
    "#Export cleaned dataset with unknowns included\n",
    "murders_short.drop('Ori', axis = 1).to_csv('C:\\\\Users\\\\Classy\\\\Desktop\\\\murders_short.csv')"
   ]
  },
  {
   "cell_type": "code",
   "execution_count": 23,
   "metadata": {},
   "outputs": [],
   "source": [
    "#Create alternate dataset with all unknowns dropped"
   ]
  },
  {
   "cell_type": "code",
   "execution_count": 24,
   "metadata": {},
   "outputs": [
    {
     "data": {
      "text/plain": [
       "Municipal police    624346\n",
       "Sheriff             136024\n",
       "County police        22913\n",
       "Primary state LE     19226\n",
       "Special police        1513\n",
       "Tribal                 357\n",
       "Regional police        339\n",
       "Name: Agentype, dtype: int64"
      ]
     },
     "execution_count": 24,
     "metadata": {},
     "output_type": "execute_result"
    }
   ],
   "source": [
    "murders_short.Agentype.value_counts()"
   ]
  },
  {
   "cell_type": "code",
   "execution_count": 25,
   "metadata": {},
   "outputs": [
    {
     "data": {
      "text/plain": [
       "0"
      ]
     },
     "execution_count": 25,
     "metadata": {},
     "output_type": "execute_result"
    }
   ],
   "source": [
    "sum(murders_short.MSA == 'Unknown')"
   ]
  },
  {
   "cell_type": "code",
   "execution_count": 26,
   "metadata": {},
   "outputs": [
    {
     "data": {
      "text/plain": [
       "0"
      ]
     },
     "execution_count": 26,
     "metadata": {},
     "output_type": "execute_result"
    }
   ],
   "source": [
    "sum(murders_short.Ori == 'Unknown')"
   ]
  },
  {
   "cell_type": "code",
   "execution_count": 27,
   "metadata": {},
   "outputs": [
    {
     "name": "stdout",
     "output_type": "stream",
     "text": [
      "0\n"
     ]
    }
   ],
   "source": [
    "murders_no_unknowns = murders_short[murders_short.VicAge != average_age]\n",
    "print(sum(murders_no_unknowns.VicAge == average_age))"
   ]
  },
  {
   "cell_type": "code",
   "execution_count": 28,
   "metadata": {},
   "outputs": [
    {
     "data": {
      "text/plain": [
       "Male       623148\n",
       "Female     180221\n",
       "Unknown      1349\n",
       "Name: VicSex, dtype: int64"
      ]
     },
     "execution_count": 28,
     "metadata": {},
     "output_type": "execute_result"
    }
   ],
   "source": [
    "murders_short.VicSex.value_counts()"
   ]
  },
  {
   "cell_type": "code",
   "execution_count": 29,
   "metadata": {},
   "outputs": [
    {
     "data": {
      "text/plain": [
       "Male      614553\n",
       "Female    177478\n",
       "Name: VicSex, dtype: int64"
      ]
     },
     "execution_count": 29,
     "metadata": {},
     "output_type": "execute_result"
    }
   ],
   "source": [
    "murders_no_unknowns = murders_no_unknowns[murders_no_unknowns.VicSex != 'Unknown']\n",
    "murders_no_unknowns.VicSex.value_counts()"
   ]
  },
  {
   "cell_type": "code",
   "execution_count": 30,
   "metadata": {},
   "outputs": [
    {
     "data": {
      "text/plain": [
       "White                                  397633\n",
       "Black                                  380396\n",
       "Asian                                   11554\n",
       "Unknown                                  8957\n",
       "American Indian or Alaskan Native        6086\n",
       "Native Hawaiian or Pacific Islander        92\n",
       "Name: VicRace, dtype: int64"
      ]
     },
     "execution_count": 30,
     "metadata": {},
     "output_type": "execute_result"
    }
   ],
   "source": [
    "murders_short.VicRace.value_counts()"
   ]
  },
  {
   "cell_type": "code",
   "execution_count": 31,
   "metadata": {},
   "outputs": [
    {
     "data": {
      "text/plain": [
       "White                                  391892\n",
       "Black                                  376123\n",
       "Asian                                   11414\n",
       "American Indian or Alaskan Native        6013\n",
       "Native Hawaiian or Pacific Islander        92\n",
       "Name: VicRace, dtype: int64"
      ]
     },
     "execution_count": 31,
     "metadata": {},
     "output_type": "execute_result"
    }
   ],
   "source": [
    "murders_no_unknowns = murders_no_unknowns[murders_no_unknowns.VicRace != 'Unknown']\n",
    "murders_no_unknowns.VicRace.value_counts()"
   ]
  },
  {
   "cell_type": "code",
   "execution_count": 32,
   "metadata": {},
   "outputs": [
    {
     "data": {
      "text/plain": [
       "Gun                                     535040\n",
       "Knife or cutting instrument             117868\n",
       "Personal weapons, includes beating       46269\n",
       "Other or type unknown                    41648\n",
       "Blunt object - hammer, club, etc         35638\n",
       "Strangulation - hanging                  10038\n",
       "Fire                                      7769\n",
       "Asphyxiation - includes death by gas      4954\n",
       "Narcotics or drugs, sleeping pills        2538\n",
       "Drowning                                  1503\n",
       "Explosives                                 625\n",
       "Poison - does not include gas              569\n",
       "Pushed or thrown out window                259\n",
       "Name: Weapon, dtype: int64"
      ]
     },
     "execution_count": 32,
     "metadata": {},
     "output_type": "execute_result"
    }
   ],
   "source": [
    "murders_short.Weapon.value_counts()"
   ]
  },
  {
   "cell_type": "code",
   "execution_count": 33,
   "metadata": {},
   "outputs": [
    {
     "data": {
      "text/plain": [
       "Gun                                     524678\n",
       "Knife or cutting instrument             115321\n",
       "Personal weapons, includes beating       44907\n",
       "Blunt object - hammer, club, etc         34750\n",
       "Strangulation - hanging                   9735\n",
       "Fire                                      7413\n",
       "Asphyxiation - includes death by gas      4770\n",
       "Narcotics or drugs, sleeping pills        2451\n",
       "Drowning                                  1451\n",
       "Explosives                                 616\n",
       "Poison - does not include gas              555\n",
       "Pushed or thrown out window                257\n",
       "Name: Weapon, dtype: int64"
      ]
     },
     "execution_count": 33,
     "metadata": {},
     "output_type": "execute_result"
    }
   ],
   "source": [
    "murders_no_unknowns = murders_no_unknowns[murders_no_unknowns.Weapon != 'Other or type unknown']\n",
    "murders_no_unknowns.Weapon.value_counts()"
   ]
  },
  {
   "cell_type": "code",
   "execution_count": 34,
   "metadata": {},
   "outputs": [
    {
     "data": {
      "text/plain": [
       "Unknown or not reported    479154\n",
       "Not of Hispanic origin     241188\n",
       "Hispanic origin             84376\n",
       "Name: VicEthnic, dtype: int64"
      ]
     },
     "execution_count": 34,
     "metadata": {},
     "output_type": "execute_result"
    }
   ],
   "source": [
    "murders_short.VicEthnic.value_counts()"
   ]
  },
  {
   "cell_type": "markdown",
   "metadata": {},
   "source": [
    "Unfortunately, the 'VicEthnic' feature contains an enormous number of unknowns - over half the original dataset\n",
    "\n",
    "For now, I will create one no_unknowns dataset that includes 'VicEthnic' unknowns and one that excludes them"
   ]
  },
  {
   "cell_type": "code",
   "execution_count": 35,
   "metadata": {},
   "outputs": [],
   "source": [
    "murders_no_unknowns.to_csv('C:\\\\Users\\\\Classy\\\\Desktop\\\\murders_no_unknowns_except_VicEthnic.csv')"
   ]
  },
  {
   "cell_type": "code",
   "execution_count": 36,
   "metadata": {},
   "outputs": [
    {
     "data": {
      "text/plain": [
       "Not of Hispanic origin    228918\n",
       "Hispanic origin            80043\n",
       "Name: VicEthnic, dtype: int64"
      ]
     },
     "execution_count": 36,
     "metadata": {},
     "output_type": "execute_result"
    }
   ],
   "source": [
    "murders_no_unknowns = murders_no_unknowns[murders_no_unknowns.VicEthnic != 'Unknown or not reported']\n",
    "murders_no_unknowns.VicEthnic.value_counts()"
   ]
  },
  {
   "cell_type": "code",
   "execution_count": 37,
   "metadata": {},
   "outputs": [],
   "source": [
    "murders_no_unknowns.to_csv('C:\\\\Users\\\\Classy\\\\Desktop\\\\murders_no_unknowns.csv')"
   ]
  }
 ],
 "metadata": {
  "kernelspec": {
   "display_name": "Python 3",
   "language": "python",
   "name": "python3"
  },
  "language_info": {
   "codemirror_mode": {
    "name": "ipython",
    "version": 3
   },
   "file_extension": ".py",
   "mimetype": "text/x-python",
   "name": "python",
   "nbconvert_exporter": "python",
   "pygments_lexer": "ipython3",
   "version": "3.7.6"
  }
 },
 "nbformat": 4,
 "nbformat_minor": 4
}
